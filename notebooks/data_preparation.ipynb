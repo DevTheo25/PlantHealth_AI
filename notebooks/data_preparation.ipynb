{
 "cells": [
  {
   "cell_type": "code",
   "execution_count": 1,
   "metadata": {},
   "outputs": [],
   "source": [
    "import os\n",
    "import shutil\n",
    "from sklearn.model_selection import train_test_split"
   ]
  },
  {
   "cell_type": "code",
   "execution_count": 2,
   "metadata": {},
   "outputs": [],
   "source": [
    "def prepare_data(raw_data_dir, processed_data_dir, test_size=0.2, val_size=0.1):\n",
    "\n",
    "    if not os.path.exists(processed_data_dir):\n",
    "        os.makedirs(processed_data_dir)\n",
    "\n",
    "    classes = os.listdir(raw_data_dir)\n",
    "\n",
    "    for cls in classes:\n",
    "\n",
    "        cls_raw_dir = os.path.join(raw_data_dir, cls)\n",
    "\n",
    "        images = os.listdir(cls_raw_dir)\n",
    "\n",
    "\n",
    "        # Dividindo os dados em Treino+Validação e Teste\n",
    "        train_val, test = train_test_split(images, test_size=test_size, random_state=42)\n",
    "        \n",
    "\n",
    "        # Divindo o Treino+Validação em Treino e validação\n",
    "        train, val = train_test_split(train_val, test_size=val_size, random_state=42)\n",
    "\n",
    "\n",
    "        train_dir = os.path.join(processed_data_dir, 'train', cls)\n",
    "        val_dir = os.path.join(processed_data_dir, 'val', cls)\n",
    "        test_dir = os.path.join(processed_data_dir, 'test', cls)\n",
    "\n",
    "        os.makedirs(train_dir, exist_ok=True)\n",
    "        os.makedirs(val_dir, exist_ok=True)\n",
    "        os.makedirs(test_dir, exist_ok=True)\n",
    "\n",
    "\n",
    "        for img in train:\n",
    "            shutil.copy(os.path.join(cls_raw_dir, img), os.path.join(train_dir, img))\n",
    "\n",
    "        for img in val:\n",
    "            shutil.copy(os.path.join(cls_raw_dir, img), os.path.join(val_dir, img))\n",
    "\n",
    "        for img in test:\n",
    "            shutil.copy(os.path.join(cls_raw_dir, img), os.path.join(test_dir, img))\n",
    "\n",
    "\n",
    "    print(\"Pré-processamento concluído!\")"
   ]
  },
  {
   "cell_type": "code",
   "execution_count": 3,
   "metadata": {},
   "outputs": [
    {
     "name": "stdout",
     "output_type": "stream",
     "text": [
      "Pré-processamento concluído!\n"
     ]
    }
   ],
   "source": [
    "if __name__ == '__main__':\n",
    "    raw_data_dir = '../data/raw/plantvillage dataset'\n",
    "    processed_data_dir = '../data/processed/plantvillage dataset'\n",
    "    prepare_data(raw_data_dir, processed_data_dir)"
   ]
  },
  {
   "cell_type": "code",
   "execution_count": null,
   "metadata": {},
   "outputs": [],
   "source": []
  }
 ],
 "metadata": {
  "kernelspec": {
   "display_name": "env",
   "language": "python",
   "name": "python3"
  },
  "language_info": {
   "codemirror_mode": {
    "name": "ipython",
    "version": 3
   },
   "file_extension": ".py",
   "mimetype": "text/x-python",
   "name": "python",
   "nbconvert_exporter": "python",
   "pygments_lexer": "ipython3",
   "version": "3.11.2"
  }
 },
 "nbformat": 4,
 "nbformat_minor": 2
}
